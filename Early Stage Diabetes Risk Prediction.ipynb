{
 "cells": [
  {
   "cell_type": "markdown",
   "metadata": {
    "id": "KssqlZ9Ljt7n"
   },
   "source": [
    "## Work Flow:\n",
    "\n",
    "<ol>\n",
    "    <li>Data Description</li>\n",
    "    <li>Basic Understanding of data using head(),tail() etc. likewise</li>\n",
    "    <li>Looking For Null/Missing values and Handling them</li>\n",
    "    <li>Basic EDA Using Data Visualization</li>\n",
    "    <li>Applying Classification Model(s)</li>    \n",
    "</ol>"
   ]
  },
  {
   "cell_type": "markdown",
   "metadata": {
    "id": "JH0ydcYhjt7n"
   },
   "source": [
    "## Data Description\n",
    "\n",
    "<p>There are <b>769 observations and 9 features</b> in the dataset where each row represent a pesron. Small deatils about each feature is written below:</p>\n",
    "\n",
    "1. **Pregnancies (Numerical):** It contains the count of how many times women have been pregnant.\n",
    "2. **Glucose (Numerical):** It contains the level of glucose in an individual body.\n",
    "3. **Blood Pressure (Numerical):** It contains an individual measurement of blood pressure.\n",
    "4. **SkinThickness (Numerical):** It contains an individual measurement of skin thickness.\n",
    "5. **Insulin (Numerical):** It contains the level of insulin in an individual body.\n",
    "6. **BMI (Numerical):** It contains the measurement of body mass index in an individual body.\n",
    "7. **DiabetesPedigreeFunction (Numerical):** It contains a measure that is based on A function which scores the likelihood of diabetes based on family history. It provides some data on diabetes mellitus history in relatives and the genetic relationship of those relatives to an individual.\n",
    "8. **Age (Numerical):** It contains the age of an individual.\n",
    "9. **Outcome (Categorical Nominal):** Target column which specifies whether an individual has diabetes or not 0 means the individual is not diabetic and 1 means the individual is diabetic."
   ]
  },
  {
   "cell_type": "markdown",
   "metadata": {
    "id": "_A4oZpL3jt7n"
   },
   "source": [
    "# Basic Understnding Of Data"
   ]
  },
  {
   "cell_type": "code",
   "execution_count": 1,
   "metadata": {
    "id": "y7eEPJvJjt7o"
   },
   "outputs": [],
   "source": [
    "# Loading neccesory liabraries \n",
    "\n",
    "import pandas as pd  # data analysis\n",
    "import numpy as np   # data manipluation \n",
    "\n",
    "import matplotlib.pyplot as plt # visualizing plot\n",
    "import seaborn as sns # visualizing interactive plots\n",
    "%matplotlib inline\n",
    "\n",
    "import warnings\n",
    "warnings.filterwarnings(\"ignore\")"
   ]
  },
  {
   "cell_type": "code",
   "execution_count": 2,
   "metadata": {
    "colab": {
     "base_uri": "https://localhost:8080/",
     "height": 75,
     "resources": {
      "http://localhost:8080/nbextensions/google.colab/files.js": {
       "data": "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",
       "headers": [
        [
         "content-type",
         "application/javascript"
        ]
       ],
       "ok": true,
       "status": 200,
       "status_text": "OK"
      }
     }
    },
    "id": "S92y-oWLvL2e",
    "outputId": "35d4eb22-d34b-4b99-c74b-22d33d51e140"
   },
   "outputs": [],
   "source": [
    "#For Reading Data Form Google Colab\n",
    "\n",
    "#from google.colab import files\n",
    "#uploaded = files.upload()"
   ]
  },
  {
   "cell_type": "code",
   "execution_count": 3,
   "metadata": {
    "id": "28UkzfTevM1i"
   },
   "outputs": [],
   "source": [
    "#For Reading Data Form Google Colab\n",
    "\n",
    "#import io\n",
    "#pima_diabetes = pd.read_csv(io.BytesIO(uploaded['diabetes.csv']))"
   ]
  },
  {
   "cell_type": "code",
   "execution_count": 4,
   "metadata": {
    "id": "8wtEN1lejt7p"
   },
   "outputs": [],
   "source": [
    "# loading data\n",
    "pima_diabetes = pd.read_csv(\"diabetes.csv\")"
   ]
  },
  {
   "cell_type": "code",
   "execution_count": 5,
   "metadata": {
    "colab": {
     "base_uri": "https://localhost:8080/"
    },
    "id": "64tWALaHjt7q",
    "outputId": "044d954e-78d1-4b43-cd4e-6d78d3b0f380",
    "scrolled": false
   },
   "outputs": [
    {
     "name": "stdout",
     "output_type": "stream",
     "text": [
      "Head of data:\n",
      "\n",
      "    Pregnancies  Glucose  BloodPressure  SkinThickness  Insulin   BMI  \\\n",
      "0            6      148             72             35        0  33.6   \n",
      "1            1       85             66             29        0  26.6   \n",
      "2            8      183             64              0        0  23.3   \n",
      "3            1       89             66             23       94  28.1   \n",
      "4            0      137             40             35      168  43.1   \n",
      "\n",
      "   DiabetesPedigreeFunction  Age  Outcome  \n",
      "0                     0.627   50        1  \n",
      "1                     0.351   31        0  \n",
      "2                     0.672   32        1  \n",
      "3                     0.167   21        0  \n",
      "4                     2.288   33        1  \n",
      "\n",
      "Tail of data:\n",
      "\n",
      "      Pregnancies  Glucose  BloodPressure  SkinThickness  Insulin   BMI  \\\n",
      "763           10      101             76             48      180  32.9   \n",
      "764            2      122             70             27        0  36.8   \n",
      "765            5      121             72             23      112  26.2   \n",
      "766            1      126             60              0        0  30.1   \n",
      "767            1       93             70             31        0  30.4   \n",
      "\n",
      "     DiabetesPedigreeFunction  Age  Outcome  \n",
      "763                     0.171   63        0  \n",
      "764                     0.340   27        0  \n",
      "765                     0.245   30        0  \n",
      "766                     0.349   47        1  \n",
      "767                     0.315   23        0  \n"
     ]
    }
   ],
   "source": [
    "# printing head and tail of data\n",
    "print(\"Head of data:\\n\\n\",pima_diabetes.head())\n",
    "print(\"\\nTail of data:\\n\\n\",pima_diabetes.tail())"
   ]
  },
  {
   "cell_type": "code",
   "execution_count": 6,
   "metadata": {
    "colab": {
     "base_uri": "https://localhost:8080/"
    },
    "id": "qT3OKZsBjt7r",
    "outputId": "bd4c044f-13ea-4175-b1a6-c13d895a9327"
   },
   "outputs": [
    {
     "data": {
      "text/plain": [
       "(768, 9)"
      ]
     },
     "execution_count": 6,
     "metadata": {},
     "output_type": "execute_result"
    }
   ],
   "source": [
    "# shape of data\n",
    "pima_diabetes.shape"
   ]
  },
  {
   "cell_type": "code",
   "execution_count": 7,
   "metadata": {
    "colab": {
     "base_uri": "https://localhost:8080/"
    },
    "id": "tKm0OwJcjt7t",
    "outputId": "f4fcc953-1719-4400-bc16-8868abde1688"
   },
   "outputs": [
    {
     "name": "stdout",
     "output_type": "stream",
     "text": [
      "<class 'pandas.core.frame.DataFrame'>\n",
      "RangeIndex: 768 entries, 0 to 767\n",
      "Data columns (total 9 columns):\n",
      " #   Column                    Non-Null Count  Dtype  \n",
      "---  ------                    --------------  -----  \n",
      " 0   Pregnancies               768 non-null    int64  \n",
      " 1   Glucose                   768 non-null    int64  \n",
      " 2   BloodPressure             768 non-null    int64  \n",
      " 3   SkinThickness             768 non-null    int64  \n",
      " 4   Insulin                   768 non-null    int64  \n",
      " 5   BMI                       768 non-null    float64\n",
      " 6   DiabetesPedigreeFunction  768 non-null    float64\n",
      " 7   Age                       768 non-null    int64  \n",
      " 8   Outcome                   768 non-null    int64  \n",
      "dtypes: float64(2), int64(7)\n",
      "memory usage: 54.1 KB\n"
     ]
    }
   ],
   "source": [
    "# Getting basic overview of data using .info\n",
    "pima_diabetes.info()"
   ]
  },
  {
   "cell_type": "markdown",
   "metadata": {
    "id": "Lu0yYdCpjt7t"
   },
   "source": [
    "### As we can see there are 9 columns and 768 rows their is not emplye cells or null in data and also we can see datatype of each variable. "
   ]
  },
  {
   "cell_type": "code",
   "execution_count": 8,
   "metadata": {
    "colab": {
     "base_uri": "https://localhost:8080/",
     "height": 300
    },
    "id": "QeG9eilzjt7t",
    "outputId": "e3499028-ef35-48ec-97ef-31b2b0bf937a"
   },
   "outputs": [
    {
     "data": {
      "text/html": [
       "<div>\n",
       "<style scoped>\n",
       "    .dataframe tbody tr th:only-of-type {\n",
       "        vertical-align: middle;\n",
       "    }\n",
       "\n",
       "    .dataframe tbody tr th {\n",
       "        vertical-align: top;\n",
       "    }\n",
       "\n",
       "    .dataframe thead th {\n",
       "        text-align: right;\n",
       "    }\n",
       "</style>\n",
       "<table border=\"1\" class=\"dataframe\">\n",
       "  <thead>\n",
       "    <tr style=\"text-align: right;\">\n",
       "      <th></th>\n",
       "      <th>Pregnancies</th>\n",
       "      <th>Glucose</th>\n",
       "      <th>BloodPressure</th>\n",
       "      <th>SkinThickness</th>\n",
       "      <th>Insulin</th>\n",
       "      <th>BMI</th>\n",
       "      <th>DiabetesPedigreeFunction</th>\n",
       "      <th>Age</th>\n",
       "      <th>Outcome</th>\n",
       "    </tr>\n",
       "  </thead>\n",
       "  <tbody>\n",
       "    <tr>\n",
       "      <th>count</th>\n",
       "      <td>768.000000</td>\n",
       "      <td>768.000000</td>\n",
       "      <td>768.000000</td>\n",
       "      <td>768.000000</td>\n",
       "      <td>768.000000</td>\n",
       "      <td>768.000000</td>\n",
       "      <td>768.000000</td>\n",
       "      <td>768.000000</td>\n",
       "      <td>768.000000</td>\n",
       "    </tr>\n",
       "    <tr>\n",
       "      <th>mean</th>\n",
       "      <td>3.845052</td>\n",
       "      <td>120.894531</td>\n",
       "      <td>69.105469</td>\n",
       "      <td>20.536458</td>\n",
       "      <td>79.799479</td>\n",
       "      <td>31.992578</td>\n",
       "      <td>0.471876</td>\n",
       "      <td>33.240885</td>\n",
       "      <td>0.348958</td>\n",
       "    </tr>\n",
       "    <tr>\n",
       "      <th>std</th>\n",
       "      <td>3.369578</td>\n",
       "      <td>31.972618</td>\n",
       "      <td>19.355807</td>\n",
       "      <td>15.952218</td>\n",
       "      <td>115.244002</td>\n",
       "      <td>7.884160</td>\n",
       "      <td>0.331329</td>\n",
       "      <td>11.760232</td>\n",
       "      <td>0.476951</td>\n",
       "    </tr>\n",
       "    <tr>\n",
       "      <th>min</th>\n",
       "      <td>0.000000</td>\n",
       "      <td>0.000000</td>\n",
       "      <td>0.000000</td>\n",
       "      <td>0.000000</td>\n",
       "      <td>0.000000</td>\n",
       "      <td>0.000000</td>\n",
       "      <td>0.078000</td>\n",
       "      <td>21.000000</td>\n",
       "      <td>0.000000</td>\n",
       "    </tr>\n",
       "    <tr>\n",
       "      <th>25%</th>\n",
       "      <td>1.000000</td>\n",
       "      <td>99.000000</td>\n",
       "      <td>62.000000</td>\n",
       "      <td>0.000000</td>\n",
       "      <td>0.000000</td>\n",
       "      <td>27.300000</td>\n",
       "      <td>0.243750</td>\n",
       "      <td>24.000000</td>\n",
       "      <td>0.000000</td>\n",
       "    </tr>\n",
       "    <tr>\n",
       "      <th>50%</th>\n",
       "      <td>3.000000</td>\n",
       "      <td>117.000000</td>\n",
       "      <td>72.000000</td>\n",
       "      <td>23.000000</td>\n",
       "      <td>30.500000</td>\n",
       "      <td>32.000000</td>\n",
       "      <td>0.372500</td>\n",
       "      <td>29.000000</td>\n",
       "      <td>0.000000</td>\n",
       "    </tr>\n",
       "    <tr>\n",
       "      <th>75%</th>\n",
       "      <td>6.000000</td>\n",
       "      <td>140.250000</td>\n",
       "      <td>80.000000</td>\n",
       "      <td>32.000000</td>\n",
       "      <td>127.250000</td>\n",
       "      <td>36.600000</td>\n",
       "      <td>0.626250</td>\n",
       "      <td>41.000000</td>\n",
       "      <td>1.000000</td>\n",
       "    </tr>\n",
       "    <tr>\n",
       "      <th>max</th>\n",
       "      <td>17.000000</td>\n",
       "      <td>199.000000</td>\n",
       "      <td>122.000000</td>\n",
       "      <td>99.000000</td>\n",
       "      <td>846.000000</td>\n",
       "      <td>67.100000</td>\n",
       "      <td>2.420000</td>\n",
       "      <td>81.000000</td>\n",
       "      <td>1.000000</td>\n",
       "    </tr>\n",
       "  </tbody>\n",
       "</table>\n",
       "</div>"
      ],
      "text/plain": [
       "       Pregnancies     Glucose  BloodPressure  SkinThickness     Insulin  \\\n",
       "count   768.000000  768.000000     768.000000     768.000000  768.000000   \n",
       "mean      3.845052  120.894531      69.105469      20.536458   79.799479   \n",
       "std       3.369578   31.972618      19.355807      15.952218  115.244002   \n",
       "min       0.000000    0.000000       0.000000       0.000000    0.000000   \n",
       "25%       1.000000   99.000000      62.000000       0.000000    0.000000   \n",
       "50%       3.000000  117.000000      72.000000      23.000000   30.500000   \n",
       "75%       6.000000  140.250000      80.000000      32.000000  127.250000   \n",
       "max      17.000000  199.000000     122.000000      99.000000  846.000000   \n",
       "\n",
       "              BMI  DiabetesPedigreeFunction         Age     Outcome  \n",
       "count  768.000000                768.000000  768.000000  768.000000  \n",
       "mean    31.992578                  0.471876   33.240885    0.348958  \n",
       "std      7.884160                  0.331329   11.760232    0.476951  \n",
       "min      0.000000                  0.078000   21.000000    0.000000  \n",
       "25%     27.300000                  0.243750   24.000000    0.000000  \n",
       "50%     32.000000                  0.372500   29.000000    0.000000  \n",
       "75%     36.600000                  0.626250   41.000000    1.000000  \n",
       "max     67.100000                  2.420000   81.000000    1.000000  "
      ]
     },
     "execution_count": 8,
     "metadata": {},
     "output_type": "execute_result"
    }
   ],
   "source": [
    "# Printing five-point summary of data using .describe\n",
    "pima_diabetes.describe()"
   ]
  },
  {
   "cell_type": "markdown",
   "metadata": {
    "id": "BrnTFwUUjt7u"
   },
   "source": [
    "### Above point summary gives quick stats of our data few of observations are like \n",
    "\n",
    "* Average glucose level of all patients is 120.894531\n",
    "* On an average number of times getting pregnancies is aprroximately 4.\n",
    "* Average blood pressure is 69.105.\n",
    "* Average skinThickness is 20.536.\n",
    "* Average Age of all given people is 33.240.\n",
    "* <b>One most important observation is to notice over here is some of the column has minimum value set as '0' for example Glucose,BloodPressure,Skinthickness,Insulin, and BMI. If we apply our common sense it is logically incorrect becasue a person skintickness cannot be 0 and here all people have been considered diabetic and non-diabetic but even if person is non-diabetic it's body blood pressure,glucose level, insulin level and Body Mass Index cannot be '0'. Which suggest us that this could be a garbadge value which we need to handle.</b>"
   ]
  },
  {
   "cell_type": "code",
   "execution_count": 9,
   "metadata": {
    "colab": {
     "base_uri": "https://localhost:8080/",
     "height": 54
    },
    "id": "YsyUYt4bjt7u",
    "outputId": "d525dcc8-1750-492b-c9c0-6b85e8c6b9d4",
    "scrolled": true
   },
   "outputs": [
    {
     "data": {
      "text/plain": [
       "'pandas_profiling library is one the most powerful\\nlibrary which help us a lot by saving our time for writing \\ndifferent chunks line of code to understand our data.\\nIt provides glimpse of whole data in very interactive manner.'"
      ]
     },
     "execution_count": 9,
     "metadata": {},
     "output_type": "execute_result"
    }
   ],
   "source": [
    "# Finding  Qucik Data Summary \n",
    "'''pandas_profiling library is one the most powerful\n",
    "library which help us a lot by saving our time for writing \n",
    "different chunks line of code to understand our data.\n",
    "It provides glimpse of whole data in very interactive manner.'''\n",
    "\n",
    "#import pandas_profiling as pp\n",
    "#pp.ProfileReport(pima_diabetes)"
   ]
  },
  {
   "cell_type": "markdown",
   "metadata": {
    "id": "agTJTyb_jt7u"
   },
   "source": [
    "# Handling Missing/Garbage Values"
   ]
  },
  {
   "cell_type": "markdown",
   "metadata": {
    "id": "rZ8fr2kNjt7u"
   },
   "source": [
    "As we saw above basic summary of our data gives us an understanding that there are not any empty cells or null values in our dataset but a few of the columns like Glucose, blood pressure, skin thickness, Insulin, and BMI that consists of '0' as the value which is logically incorrect that we have to handle. \n",
    "\n",
    "Here all these columns are numerical so to convert our '0' into logical values there are most common ways through which we can impute these values with either the average value of that column or median value of that column. Though handling or removing this type of missing value also depends on our criteria or objective for example if we are only looking for people between the age of minimum age value to age 50 and if all above mentioned missing column has most zeros for people age above 50 then we can remove these all '0' because our criteria or objective of analysis will not get affected by that. But, here we are considering whole data so we have to impute all of them.\n",
    "\n",
    "To decide between choosing mean values or median values we can check for the shape of all these missing value columns by using boxplot and density/Histogram plot. This will help us to look into if the values of these columns are skewed or not and whether they have outlier or not. Based on these two criteria we can decide which measure will be suitable to choose for imputing missing values."
   ]
  },
  {
   "cell_type": "code",
   "execution_count": 10,
   "metadata": {
    "colab": {
     "base_uri": "https://localhost:8080/",
     "height": 934
    },
    "id": "hP3_QhYpjt7u",
    "outputId": "1a7d3d07-5003-4ad4-e256-a415d31ddbd4"
   },
   "outputs": [
    {
     "data": {
      "image/png": "[encoded data removed]",
      "text/plain": [
       "<Figure size 1152x1152 with 5 Axes>"
      ]
     },
     "metadata": {
      "needs_background": "light"
     },
     "output_type": "display_data"
    }
   ],
   "source": [
    "# ploting histogram/densitiy plot for all missing columns\n",
    "\n",
    "fig, ax2 = plt.subplots(3,2,figsize=(16, 16)) #setting size of each image and formation of image like 3 rows and 2 column\n",
    "\n",
    "# creating density plot for each missing column \n",
    "\n",
    "sns.distplot(pima_diabetes['Glucose'],ax=ax2[0][0])\n",
    "sns.distplot(pima_diabetes['BloodPressure'],ax= ax2[0][1])\n",
    "sns.distplot(pima_diabetes['SkinThickness'],ax= ax2[1][0])\n",
    "sns.distplot(pima_diabetes['Insulin'],ax= ax2[1][1])\n",
    "sns.distplot(pima_diabetes['BMI'],ax= ax2[2][0])\n",
    "\n",
    "#deleting one extra box as we have passed 3 rows and 2 column showing type but we need only 5 boxes\n",
    "fig.delaxes(ax2[2,1]) \n",
    "plt.show()"
   ]
  },
  {
   "cell_type": "markdown",
   "metadata": {
    "id": "QgGqVfLOjt7u"
   },
   "source": [
    "### From the above desntiy plot we can see that Glucose,Bloodpressure and BMI column values are nearly normaly distributed but still there are some outliers where SkinThickness and Insulin column are right skewed."
   ]
  },
  {
   "cell_type": "code",
   "execution_count": 11,
   "metadata": {
    "colab": {
     "base_uri": "https://localhost:8080/",
     "height": 932
    },
    "id": "9IUzu3iQjt7u",
    "outputId": "90326733-4880-4e09-c031-8f30c95a606a"
   },
   "outputs": [
    {
     "data": {
      "image/png": "[encoded data removed]",
      "text/plain": [
       "<Figure size 1152x1152 with 5 Axes>"
      ]
     },
     "metadata": {
      "needs_background": "light"
     },
     "output_type": "display_data"
    }
   ],
   "source": [
    "# plotting boxplot of all missing columns\n",
    "\n",
    "fig, ax2 = plt.subplots(3,2,figsize=(16, 16)) #setting size of each image and formation of image like 3 rows and 2 column\n",
    "\n",
    "# creating desity plot for each missing column \n",
    "\n",
    "sns.boxplot(pima_diabetes['Glucose'],ax=ax2[0][0])\n",
    "sns.boxplot(pima_diabetes['BloodPressure'],ax= ax2[0][1])\n",
    "sns.boxplot(pima_diabetes['SkinThickness'],ax= ax2[1][0])\n",
    "sns.boxplot(pima_diabetes['Insulin'],ax= ax2[1][1])\n",
    "sns.boxplot(pima_diabetes['BMI'],ax= ax2[2][0])\n",
    "\n",
    "#deleting one extra box as we have passed 3 rows and 2 column showing type but we need only 5 boxes\n",
    "fig.delaxes(ax2[2,1]) \n",
    "plt.show()"
   ]
  },
  {
   "cell_type": "markdown",
   "metadata": {
    "id": "9vxQuDkwjt7v"
   },
   "source": [
    "### Boxplot suggest us that there are few outliers in all missing value columns and as we have already seen in desnsity plot same we can see column Glucose,BloodPressure and BMI has normally distributed values and SkinThickness,Insulin column are right skewed."
   ]
  },
  {
   "cell_type": "code",
   "execution_count": 12,
   "metadata": {
    "colab": {
     "base_uri": "https://localhost:8080/"
    },
    "id": "6de5dJShjt7v",
    "outputId": "8f52e58f-d79e-4778-8370-9ea7ec5bec83"
   },
   "outputs": [
    {
     "name": "stdout",
     "output_type": "stream",
     "text": [
      "Mean Of all Missing Column:\n",
      "\n",
      " Glucose          120.894531\n",
      "BloodPressure     69.105469\n",
      "SkinThickness     20.536458\n",
      "Insulin           79.799479\n",
      "BMI               31.992578\n",
      "dtype: float64\n",
      "\n",
      "\n",
      "Median Of all Missing Column:\n",
      "\n",
      " Glucose          117.0\n",
      "BloodPressure     72.0\n",
      "SkinThickness     23.0\n",
      "Insulin           30.5\n",
      "BMI               32.0\n",
      "dtype: float64\n"
     ]
    }
   ],
   "source": [
    "#printing all missing columns mean and median value\n",
    "missing_col = ['Glucose','BloodPressure','SkinThickness','Insulin','BMI']\n",
    "\n",
    "mis_col_mean = pima_diabetes[missing_col].mean()\n",
    "\n",
    "mis_col_median = pima_diabetes[missing_col].median()\n",
    "\n",
    "print('Mean Of all Missing Column:\\n\\n',mis_col_mean)\n",
    "print('\\n\\nMedian Of all Missing Column:\\n\\n',mis_col_median)"
   ]
  },
  {
   "cell_type": "markdown",
   "metadata": {
    "id": "eN-c-Xq1jt7v"
   },
   "source": [
    "### From the above result, we understood that for Glucose and Insulin mean is greater than the median. In the case of BloodPressure, SkinThickness and BMI median is greater mean. Also, we saw some skewness and outliers in the above boxplot and density plots. If we consider statistical methods, if your mean is greater than the median then the median will be a good measure of central tendency so we can take the median value for Glucose and Insulin. For the remaining three columns the difference between mean and median is not huge for them. We will consider the median value for replacing '0'. We will try to replace this median value with their outcome value means all diabetic patient's NULL values will be replaced with diabetic patient's median values and the same for non-diabetic patients."
   ]
  },
  {
   "cell_type": "code",
   "execution_count": 13,
   "metadata": {
    "colab": {
     "base_uri": "https://localhost:8080/"
    },
    "id": "IoUwqvyajt7v",
    "outputId": "18a21ff9-8323-4935-807f-85addd75dd95"
   },
   "outputs": [
    {
     "name": "stdout",
     "output_type": "stream",
     "text": [
      "Checking Null Values\n",
      "\n",
      " Pregnancies                   0\n",
      "Glucose                       5\n",
      "BloodPressure                35\n",
      "SkinThickness               227\n",
      "Insulin                     374\n",
      "BMI                          11\n",
      "DiabetesPedigreeFunction      0\n",
      "Age                           0\n",
      "Outcome                       0\n",
      "dtype: int64\n"
     ]
    }
   ],
   "source": [
    "#replacing all zeros with nan\n",
    "pima_diabetes[['Glucose','BloodPressure','SkinThickness',\n",
    "  'Insulin','BMI']] = pima_diabetes[['Glucose','BloodPressure','SkinThickness','Insulin','BMI']].replace(0,np.NaN)\n",
    "\n",
    "#checking for null values\n",
    "print('Checking Null Values\\n\\n', pima_diabetes.isnull().sum())"
   ]
  },
  {
   "cell_type": "code",
   "execution_count": 14,
   "metadata": {
    "colab": {
     "base_uri": "https://localhost:8080/",
     "height": 143
    },
    "id": "pCiGyIKdjt7w",
    "outputId": "460d6550-bf79-4e8f-8572-dff211c9e195"
   },
   "outputs": [
    {
     "data": {
      "text/html": [
       "<div>\n",
       "<style scoped>\n",
       "    .dataframe tbody tr th:only-of-type {\n",
       "        vertical-align: middle;\n",
       "    }\n",
       "\n",
       "    .dataframe tbody tr th {\n",
       "        vertical-align: top;\n",
       "    }\n",
       "\n",
       "    .dataframe thead th {\n",
       "        text-align: right;\n",
       "    }\n",
       "</style>\n",
       "<table border=\"1\" class=\"dataframe\">\n",
       "  <thead>\n",
       "    <tr style=\"text-align: right;\">\n",
       "      <th></th>\n",
       "      <th>Glucose</th>\n",
       "      <th>BloodPressure</th>\n",
       "      <th>SkinThickness</th>\n",
       "      <th>Insulin</th>\n",
       "      <th>BMI</th>\n",
       "    </tr>\n",
       "    <tr>\n",
       "      <th>Outcome</th>\n",
       "      <th></th>\n",
       "      <th></th>\n",
       "      <th></th>\n",
       "      <th></th>\n",
       "      <th></th>\n",
       "    </tr>\n",
       "  </thead>\n",
       "  <tbody>\n",
       "    <tr>\n",
       "      <th>0</th>\n",
       "      <td>107.0</td>\n",
       "      <td>70.0</td>\n",
       "      <td>27.0</td>\n",
       "      <td>102.5</td>\n",
       "      <td>30.1</td>\n",
       "    </tr>\n",
       "    <tr>\n",
       "      <th>1</th>\n",
       "      <td>140.0</td>\n",
       "      <td>74.5</td>\n",
       "      <td>32.0</td>\n",
       "      <td>169.5</td>\n",
       "      <td>34.3</td>\n",
       "    </tr>\n",
       "  </tbody>\n",
       "</table>\n",
       "</div>"
      ],
      "text/plain": [
       "         Glucose  BloodPressure  SkinThickness  Insulin   BMI\n",
       "Outcome                                                      \n",
       "0          107.0           70.0           27.0    102.5  30.1\n",
       "1          140.0           74.5           32.0    169.5  34.3"
      ]
     },
     "execution_count": 14,
     "metadata": {},
     "output_type": "execute_result"
    }
   ],
   "source": [
    "# Couting median values according to diabetic and non-diabetic patient\n",
    "all_median = pima_diabetes.groupby('Outcome')[[\"Glucose\", \"BloodPressure\", \"SkinThickness\",\"Insulin\",\"BMI\"]].median()\n",
    "all_median"
   ]
  },
  {
   "cell_type": "code",
   "execution_count": 15,
   "metadata": {
    "id": "6M0dWt61jt7w"
   },
   "outputs": [],
   "source": [
    "# replacing zeros with median values according to diabetic and non-diabetic patient\n",
    "\n",
    "# For Glucose Column \n",
    "pima_diabetes.loc[(pima_diabetes['Outcome'] == 0 ) & (pima_diabetes['Glucose'].isnull()), 'Glucose'] = 107.0\n",
    "pima_diabetes.loc[(pima_diabetes['Outcome'] == 1 ) & (pima_diabetes['Glucose'].isnull()), 'Glucose'] = 140.0\n",
    "\n",
    "# For BloodPressure Column\n",
    "pima_diabetes.loc[(pima_diabetes['Outcome'] == 0 ) & (pima_diabetes['BloodPressure'].isnull()), 'BloodPressure'] = 70.0\n",
    "pima_diabetes.loc[(pima_diabetes['Outcome'] == 1 ) & (pima_diabetes['BloodPressure'].isnull()), 'BloodPressure'] = 74.5\n",
    "\n",
    "# For SkinThickness Column\n",
    "pima_diabetes.loc[(pima_diabetes['Outcome'] == 0 ) & (pima_diabetes['SkinThickness'].isnull()), 'SkinThickness'] = 27.0\n",
    "pima_diabetes.loc[(pima_diabetes['Outcome'] == 1 ) & (pima_diabetes['SkinThickness'].isnull()), 'SkinThickness'] = 32.0\n",
    "\n",
    "# For Insulin Column\n",
    "pima_diabetes.loc[(pima_diabetes['Outcome'] == 0 ) & (pima_diabetes['Insulin'].isnull()), 'Insulin'] = 102.50\n",
    "pima_diabetes.loc[(pima_diabetes['Outcome'] == 1 ) & (pima_diabetes['Insulin'].isnull()), 'Insulin'] = 169.50\n",
    "\n",
    "# For Insulin Column\n",
    "pima_diabetes.loc[(pima_diabetes['Outcome'] == 0 ) & (pima_diabetes['BMI'].isnull()), 'BMI'] = 30.10\n",
    "pima_diabetes.loc[(pima_diabetes['Outcome'] == 1 ) & (pima_diabetes['BMI'].isnull()), 'BMI'] = 34.30"
   ]
  },
  {
   "cell_type": "code",
   "execution_count": 16,
   "metadata": {
    "colab": {
     "base_uri": "https://localhost:8080/"
    },
    "id": "O_rr-ol3jt7w",
    "outputId": "b3a3e427-60dc-45ba-c6d2-8e6aa84459ea"
   },
   "outputs": [
    {
     "name": "stdout",
     "output_type": "stream",
     "text": [
      "Checking Null Values\n",
      "\n",
      " Pregnancies                 0\n",
      "Glucose                     0\n",
      "BloodPressure               0\n",
      "SkinThickness               0\n",
      "Insulin                     0\n",
      "BMI                         0\n",
      "DiabetesPedigreeFunction    0\n",
      "Age                         0\n",
      "Outcome                     0\n",
      "dtype: int64\n"
     ]
    }
   ],
   "source": [
    "#Checkin after replacing Null Values\n",
    "print('Checking Null Values\\n\\n', pima_diabetes.isnull().sum())"
   ]
  },
  {
   "cell_type": "markdown",
   "metadata": {
    "id": "Rrb9DT1_jt7w"
   },
   "source": [
    "# Basic EDA Using Data Visualization"
   ]
  },
  {
   "cell_type": "code",
   "execution_count": 17,
   "metadata": {
    "colab": {
     "base_uri": "https://localhost:8080/",
     "height": 934
    },
    "id": "2H96vaUBjt7w",
    "outputId": "a874860a-7aef-4736-e647-fde525d68ddb",
    "scrolled": false
   },
   "outputs": [
    {
     "data": {
      "image/png": "[encoded data removed]",
      "text/plain": [
       "<Figure size 1152x1152 with 4 Axes>"
      ]
     },
     "metadata": {
      "needs_background": "light"
     },
     "output_type": "display_data"
    }
   ],
   "source": [
    "#ploting histogram for pregencies,Age and DiabetesPedigreeFunction\n",
    "pima_diabetes.hist(column = ['Pregnancies','Age','DiabetesPedigreeFunction'],figsize=(16, 16))\n",
    "plt.show()"
   ]
  },
  {
   "cell_type": "markdown",
   "metadata": {
    "id": "UDpUxpvBjt7w"
   },
   "source": [
    "### From the histogram of Age column we can say that most of women age lies between 20 to 50 since in data only womens above age of 21 is taken into cosideration. Pregnancies histogram suggest that most of women got pregnancies count between 0 to 5. Lastly, Diabetic Pedigree Fucntion column most of values falls between 0 to 1.5. "
   ]
  },
  {
   "cell_type": "code",
   "execution_count": 18,
   "metadata": {
    "colab": {
     "base_uri": "https://localhost:8080/",
     "height": 279
    },
    "id": "03X4qYqWjt7w",
    "outputId": "ecdf8010-4f4a-49f0-f529-25b8ae55c4f7",
    "scrolled": false
   },
   "outputs": [
    {
     "data": {
      "image/png": "[encoded data removed]",
      "text/plain": [
       "<Figure size 432x288 with 1 Axes>"
      ]
     },
     "metadata": {
      "needs_background": "light"
     },
     "output_type": "display_data"
    }
   ],
   "source": [
    "# plotting traget variable 'Outcome'\n",
    "\n",
    "sns.countplot(x=\"Outcome\", data=pima_diabetes)\n",
    "plt.show()"
   ]
  },
  {
   "cell_type": "markdown",
   "metadata": {
    "id": "-SinFeA3jt7w"
   },
   "source": [
    "### From the above barchart we can say there are 500 people who are non-diabetic and 268 people are diabetic.If we calculate percentage than out of all given data 34.9% are diabetic and 64.1% are non-diabetic. In other words non-diabetic people are almost double than diabetic. "
   ]
  },
  {
   "cell_type": "code",
   "execution_count": 19,
   "metadata": {
    "colab": {
     "base_uri": "https://localhost:8080/",
     "height": 295
    },
    "id": "Jwg2_grrjt7w",
    "outputId": "c054069c-7438-421c-bfe5-24f10122bfc0"
   },
   "outputs": [
    {
     "data": {
      "image/png": "[encoded data removed]",
      "text/plain": [
       "<Figure size 432x288 with 1 Axes>"
      ]
     },
     "metadata": {
      "needs_background": "light"
     },
     "output_type": "display_data"
    }
   ],
   "source": [
    "# ploting target variable 'Outcome' and Glucose\n",
    "mean_glucose_distribution = pima_diabetes.groupby('Outcome')['Glucose'].mean()\n",
    "\n",
    "sns.barplot(mean_glucose_distribution.index.values,mean_glucose_distribution.values)\n",
    "plt.xlabel('Outcome')\n",
    "plt.ylabel('Average Glucose level')\n",
    "plt.title('Average Glucose level in Diabetic and Non-Diabetic Patients')\n",
    "plt.show()"
   ]
  },
  {
   "cell_type": "markdown",
   "metadata": {
    "id": "6pdwkd4ujt7w"
   },
   "source": [
    "### From the above plot we can say that non-diabetic patients average Glucose level is less compare to diabetic patients."
   ]
  },
  {
   "cell_type": "code",
   "execution_count": 20,
   "metadata": {
    "colab": {
     "base_uri": "https://localhost:8080/",
     "height": 313
    },
    "id": "AG_DcdAljt7w",
    "outputId": "a1745394-6df4-4bf5-b2e5-553fbc7fd4e7"
   },
   "outputs": [
    {
     "data": {
      "text/plain": [
       "Text(0.5, 1.0, 'Average BMI in Diabetic and Non-Diabetic Patients')"
      ]
     },
     "execution_count": 20,
     "metadata": {},
     "output_type": "execute_result"
    },
    {
     "data": {
      "image/png": "[encoded data removed]",
      "text/plain": [
       "<Figure size 432x288 with 1 Axes>"
      ]
     },
     "metadata": {
      "needs_background": "light"
     },
     "output_type": "display_data"
    }
   ],
   "source": [
    "# ploting target variable 'Outcome' and BMI \n",
    "mean_bmi_distribution = pima_diabetes.groupby('Outcome')['BMI'].mean()\n",
    "\n",
    "sns.barplot(mean_bmi_distribution.index.values,mean_bmi_distribution.values)\n",
    "plt.xlabel('Outcome')\n",
    "plt.ylabel('Average BMI')\n",
    "plt.title('Average BMI in Diabetic and Non-Diabetic Patients')"
   ]
  },
  {
   "cell_type": "markdown",
   "metadata": {
    "id": "UFUbP8lkjt7w"
   },
   "source": [
    "### From the above plot we can say that non-diabetic patients average Body Mass Index is less compare to diabetic patients."
   ]
  },
  {
   "cell_type": "code",
   "execution_count": 21,
   "metadata": {
    "colab": {
     "base_uri": "https://localhost:8080/",
     "height": 313
    },
    "id": "WXaTskijjt7x",
    "outputId": "9d2e3fa6-edcf-41ae-d8ba-a0432d0dc7e0",
    "scrolled": false
   },
   "outputs": [
    {
     "data": {
      "text/plain": [
       "Text(0.5, 1.0, 'Average Insulin in Diabetic and Non-Diabetic Patients')"
      ]
     },
     "execution_count": 21,
     "metadata": {},
     "output_type": "execute_result"
    },
    {
     "data": {
      "image/png": "[encoded data removed]",
      "text/plain": [
       "<Figure size 432x288 with 1 Axes>"
      ]
     },
     "metadata": {
      "needs_background": "light"
     },
     "output_type": "display_data"
    }
   ],
   "source": [
    "# ploting target variable 'Outcome' and Insulin \n",
    "mean_insulin_distribution = pima_diabetes.groupby('Outcome')['Insulin'].mean()\n",
    "\n",
    "sns.barplot(mean_insulin_distribution.index.values,mean_insulin_distribution.values)\n",
    "plt.xlabel('Outcome')\n",
    "plt.ylabel('Average Insulin')\n",
    "plt.title('Average Insulin in Diabetic and Non-Diabetic Patients')"
   ]
  },
  {
   "cell_type": "markdown",
   "metadata": {
    "id": "q6MRbnV4jt7x"
   },
   "source": [
    "### From the above plot we can say that non-diabetic patients average Insulin level is less compare to diabetic patients."
   ]
  },
  {
   "cell_type": "code",
   "execution_count": 22,
   "metadata": {
    "colab": {
     "base_uri": "https://localhost:8080/",
     "height": 313
    },
    "id": "daY2d6bKjt7x",
    "outputId": "21d048b9-1feb-4e0d-a456-40af70e66e8c",
    "scrolled": false
   },
   "outputs": [
    {
     "data": {
      "text/plain": [
       "Text(0.5, 1.0, 'Average BloodPressure in Diabetic and Non-Diabetic Patients')"
      ]
     },
     "execution_count": 22,
     "metadata": {},
     "output_type": "execute_result"
    },
    {
     "data": {
      "image/png": "[encoded data removed]",
      "text/plain": [
       "<Figure size 432x288 with 1 Axes>"
      ]
     },
     "metadata": {
      "needs_background": "light"
     },
     "output_type": "display_data"
    }
   ],
   "source": [
    "# ploting target variable 'Outcome' and BloodPressure \n",
    "mean_bloodpressure_distribution = pima_diabetes.groupby('Outcome')['BloodPressure'].mean()\n",
    "\n",
    "sns.barplot(mean_bloodpressure_distribution.index.values,mean_bloodpressure_distribution.values)\n",
    "plt.xlabel('Outcome')\n",
    "plt.ylabel('Average BloodPressure')\n",
    "plt.title('Average BloodPressure in Diabetic and Non-Diabetic Patients')"
   ]
  },
  {
   "cell_type": "markdown",
   "metadata": {
    "id": "MqHopHtWjt7x"
   },
   "source": [
    "### From the above plot we can say that non-diabetic patients average Insulin level is less compare to diabetic patients but here another thing to note the difference is not big."
   ]
  },
  {
   "cell_type": "code",
   "execution_count": 23,
   "metadata": {
    "colab": {
     "base_uri": "https://localhost:8080/",
     "height": 313
    },
    "id": "jd7qXC-_jt7x",
    "outputId": "0fb61ebd-36dc-44d7-9c2c-51c4e0ccb274"
   },
   "outputs": [
    {
     "data": {
      "text/plain": [
       "Text(0.5, 1.0, 'Average SkinThickness in Diabetic and Non-Diabetic Patients')"
      ]
     },
     "execution_count": 23,
     "metadata": {},
     "output_type": "execute_result"
    },
    {
     "data": {
      "image/png": "[encoded data removed]",
      "text/plain": [
       "<Figure size 432x288 with 1 Axes>"
      ]
     },
     "metadata": {
      "needs_background": "light"
     },
     "output_type": "display_data"
    }
   ],
   "source": [
    "# ploting target variable 'Outcome' and SkinThickness \n",
    "mean_skinthickness_distribution = pima_diabetes.groupby('Outcome')['SkinThickness'].mean()\n",
    "\n",
    "sns.barplot(mean_skinthickness_distribution.index.values,mean_skinthickness_distribution.values)\n",
    "plt.xlabel('Outcome')\n",
    "plt.ylabel('Average SkinThickness')\n",
    "plt.title('Average SkinThickness in Diabetic and Non-Diabetic Patients')"
   ]
  },
  {
   "cell_type": "markdown",
   "metadata": {
    "id": "7ZpZxTQ0jt7x"
   },
   "source": [
    "### From the above plot we can say that non-diabetic patients average Skin Thickness is less compare to diabetic patients."
   ]
  },
  {
   "cell_type": "code",
   "execution_count": 24,
   "metadata": {
    "colab": {
     "base_uri": "https://localhost:8080/"
    },
    "id": "jjZ4pYL0jt7x",
    "outputId": "ec21bd9d-8da5-41fa-faea-7bec6adbd6ff"
   },
   "outputs": [
    {
     "name": "stdout",
     "output_type": "stream",
     "text": [
      "Checking New Column:\n",
      " 0    40-49\n",
      "1    30-39\n",
      "2    30-39\n",
      "3    21-29\n",
      "4    30-39\n",
      "Name: Age Group, dtype: category\n",
      "Categories (5, object): ['21-29' < '30-39' < '40-49' < '50-59' < '60+']\n"
     ]
    }
   ],
   "source": [
    "# adding new Age Group column using age column\n",
    "\n",
    "bins = [21, 30, 40, 50, 60, 81]\n",
    "labels = ['21-29', '30-39', '40-49', '50-59', '60+']\n",
    "pima_diabetes['Age Group'] = pd.cut(pima_diabetes.Age, bins, labels = labels,include_lowest = True)\n",
    "\n",
    "print('Checking New Column:\\n',pima_diabetes['Age Group'].head())"
   ]
  },
  {
   "cell_type": "code",
   "execution_count": 25,
   "metadata": {
    "colab": {
     "base_uri": "https://localhost:8080/",
     "height": 313
    },
    "id": "ghDfm9yWjt7x",
    "outputId": "3edb1486-6928-4199-e845-db3662525511",
    "scrolled": false
   },
   "outputs": [
    {
     "data": {
      "text/plain": [
       "Text(0.5, 1.0, 'Age Group Wise Count Of Diabetic and Non-Diabetic Patients')"
      ]
     },
     "execution_count": 25,
     "metadata": {},
     "output_type": "execute_result"
    },
    {
     "data": {
      "image/png": "[encoded data removed]",
      "text/plain": [
       "<Figure size 432x288 with 1 Axes>"
      ]
     },
     "metadata": {
      "needs_background": "light"
     },
     "output_type": "display_data"
    }
   ],
   "source": [
    "# ploting age group wise diabetic and non diabetic patients\n",
    "\n",
    "sns.countplot(x=\"Age Group\", hue=\"Outcome\", data=pima_diabetes)\n",
    "plt.title('Age Group Wise Count Of Diabetic and Non-Diabetic Patients')"
   ]
  },
  {
   "cell_type": "markdown",
   "metadata": {
    "id": "n6EwX6tJjt7x"
   },
   "source": [
    "### From the plot we can interpret that Age Group 21-29 has highest number of Diabetic and non-diabetic patients compare to other age group and least number of Diabetic and non diabetic patients are in 60+ age group. Since in our data Non-diabetic patients are more than diabetic patients we can find this pattern in Age group 21-29,30-39 and 60+. But for Age Group 40-49 and 50-59 has more number of Diabetic patients compare to Non-Diabetic patients."
   ]
  },
  {
   "cell_type": "code",
   "execution_count": 26,
   "metadata": {
    "colab": {
     "base_uri": "https://localhost:8080/",
     "height": 206
    },
    "id": "2Eot7xqPjt7y",
    "outputId": "51b47ed3-e758-48cc-ad7b-0dfa5f31feb5"
   },
   "outputs": [
    {
     "data": {
      "text/html": [
       "<div>\n",
       "<style scoped>\n",
       "    .dataframe tbody tr th:only-of-type {\n",
       "        vertical-align: middle;\n",
       "    }\n",
       "\n",
       "    .dataframe tbody tr th {\n",
       "        vertical-align: top;\n",
       "    }\n",
       "\n",
       "    .dataframe thead th {\n",
       "        text-align: right;\n",
       "    }\n",
       "</style>\n",
       "<table border=\"1\" class=\"dataframe\">\n",
       "  <thead>\n",
       "    <tr style=\"text-align: right;\">\n",
       "      <th></th>\n",
       "      <th>Pregnancies</th>\n",
       "      <th>Glucose</th>\n",
       "      <th>BloodPressure</th>\n",
       "      <th>SkinThickness</th>\n",
       "      <th>Insulin</th>\n",
       "      <th>BMI</th>\n",
       "      <th>DiabetesPedigreeFunction</th>\n",
       "      <th>Age</th>\n",
       "      <th>Outcome</th>\n",
       "    </tr>\n",
       "  </thead>\n",
       "  <tbody>\n",
       "    <tr>\n",
       "      <th>0</th>\n",
       "      <td>6</td>\n",
       "      <td>148.0</td>\n",
       "      <td>72.0</td>\n",
       "      <td>35.0</td>\n",
       "      <td>169.5</td>\n",
       "      <td>33.6</td>\n",
       "      <td>0.627</td>\n",
       "      <td>50</td>\n",
       "      <td>1</td>\n",
       "    </tr>\n",
       "    <tr>\n",
       "      <th>1</th>\n",
       "      <td>1</td>\n",
       "      <td>85.0</td>\n",
       "      <td>66.0</td>\n",
       "      <td>29.0</td>\n",
       "      <td>102.5</td>\n",
       "      <td>26.6</td>\n",
       "      <td>0.351</td>\n",
       "      <td>31</td>\n",
       "      <td>0</td>\n",
       "    </tr>\n",
       "    <tr>\n",
       "      <th>2</th>\n",
       "      <td>8</td>\n",
       "      <td>183.0</td>\n",
       "      <td>64.0</td>\n",
       "      <td>32.0</td>\n",
       "      <td>169.5</td>\n",
       "      <td>23.3</td>\n",
       "      <td>0.672</td>\n",
       "      <td>32</td>\n",
       "      <td>1</td>\n",
       "    </tr>\n",
       "    <tr>\n",
       "      <th>3</th>\n",
       "      <td>1</td>\n",
       "      <td>89.0</td>\n",
       "      <td>66.0</td>\n",
       "      <td>23.0</td>\n",
       "      <td>94.0</td>\n",
       "      <td>28.1</td>\n",
       "      <td>0.167</td>\n",
       "      <td>21</td>\n",
       "      <td>0</td>\n",
       "    </tr>\n",
       "    <tr>\n",
       "      <th>4</th>\n",
       "      <td>0</td>\n",
       "      <td>137.0</td>\n",
       "      <td>40.0</td>\n",
       "      <td>35.0</td>\n",
       "      <td>168.0</td>\n",
       "      <td>43.1</td>\n",
       "      <td>2.288</td>\n",
       "      <td>33</td>\n",
       "      <td>1</td>\n",
       "    </tr>\n",
       "  </tbody>\n",
       "</table>\n",
       "</div>"
      ],
      "text/plain": [
       "   Pregnancies  Glucose  BloodPressure  SkinThickness  Insulin   BMI  \\\n",
       "0            6    148.0           72.0           35.0    169.5  33.6   \n",
       "1            1     85.0           66.0           29.0    102.5  26.6   \n",
       "2            8    183.0           64.0           32.0    169.5  23.3   \n",
       "3            1     89.0           66.0           23.0     94.0  28.1   \n",
       "4            0    137.0           40.0           35.0    168.0  43.1   \n",
       "\n",
       "   DiabetesPedigreeFunction  Age  Outcome  \n",
       "0                     0.627   50        1  \n",
       "1                     0.351   31        0  \n",
       "2                     0.672   32        1  \n",
       "3                     0.167   21        0  \n",
       "4                     2.288   33        1  "
      ]
     },
     "execution_count": 26,
     "metadata": {},
     "output_type": "execute_result"
    }
   ],
   "source": [
    "# dropping Age Group column\n",
    "\n",
    "pima_diabetes = pima_diabetes.drop(['Age Group'],axis=1)\n",
    "\n",
    "pima_diabetes.head()"
   ]
  },
  {
   "cell_type": "code",
   "execution_count": 27,
   "metadata": {
    "colab": {
     "base_uri": "https://localhost:8080/",
     "height": 461
    },
    "id": "BLI8X7S_jt7y",
    "outputId": "dd0ca028-f3ea-4237-e0d0-828b73e814a0"
   },
   "outputs": [
    {
     "data": {
      "image/png": "[encoded data removed]",
      "text/plain": [
       "<Figure size 360x360 with 2 Axes>"
      ]
     },
     "metadata": {
      "needs_background": "light"
     },
     "output_type": "display_data"
    }
   ],
   "source": [
    "# creating correlation plot \n",
    "f, ax = plt.subplots(figsize= [5,5])\n",
    "sns.heatmap(pima_diabetes.corr(), annot=True, fmt=\".2f\", ax=ax, cmap = \"magma\" )\n",
    "ax.set_title(\"Correlation Matrix\", fontsize=20)\n",
    "bottom, top = ax.get_ylim()\n",
    "ax.set_ylim(bottom + 0.5, top - 0.5)\n",
    "plt.show()"
   ]
  },
  {
   "cell_type": "markdown",
   "metadata": {
    "id": "5X-jkCWdjt7y"
   },
   "source": [
    "### Correlation matrix plot help us to understand correlation between our features. By looking at the above plot we can judge that highest correlation with our target variable Outcome is only one variable that is Glucose with 0.50 correlation rate. Other variables are less correlated to our target variable Outcome."
   ]
  },
  {
   "cell_type": "markdown",
   "metadata": {
    "id": "RCtNIC0Rjt7y"
   },
   "source": [
    "# Applying Classification Model(s) For Prediction"
   ]
  },
  {
   "cell_type": "markdown",
   "metadata": {
    "id": "6g8A1_2bjt7y"
   },
   "source": [
    "<p> Our dataset is not very big there are only 768 rows in our dataset so it will be hard to get high accuracy for model we create. Also our binary classes for deciding whether patient is diabetic or non-diabetic is very imbalanced because we have 500 non-diabetic patients and 268 diabetic patients which could influnce our model result it will not generalize meaning that whenever we will provide new unseen data it will give us wrong prediction that patient is non-diabetic but in actual patient is diabetic.</p>\n",
    "\n",
    "<p>In order to solve this problem we will get the help of tree based classification model like Decision Tree and their ensemble tree models like Random Forest and Gradient Boosting. Resason behind using this model is they use if-else technique to solve a problem and go through each and every feature of dataset. Also they perform extremely well on many real-world problems.</p>\n",
    "\n",
    "<p>To evaluate model performance we will use confusion matrix,accuracy,F1 score,Precision and recall as classification metrics based upon this we will be able to measure our models performance. After checking accuracy of all three model whichever model gives highest accuracy we will try to fine tune it using hyperparameter optimization and K-fold cross validation to get more generalized and better accuray for that model.At last we will check to which feature model is giving most importance for prediction.</p>"
   ]
  },
  {
   "cell_type": "markdown",
   "metadata": {
    "id": "c36Q07nNjt7y"
   },
   "source": [
    "## Machine Learning Steps:\n",
    "\n",
    "<ol>\n",
    "    <li>Importing Required Libraries and splitting data into train and test set.</li>\n",
    "    <li>Initializing Model.</li>\n",
    "    <li>Fitting Our Model on train set.</li>\n",
    "    <li>Evaluating model perfomance by using confusion matrix,accuracy,f1 score,precision and recall.</li>\n",
    "    <li>Model tunning using hyperparameter optimization and k-fold cross validation</li>\n",
    "    <li>Feature Importance for knowing to which feature our model is giving more importance for doing prediction.</li>\n",
    "</ol>"
   ]
  },
  {
   "cell_type": "code",
   "execution_count": 28,
   "metadata": {
    "colab": {
     "base_uri": "https://localhost:8080/"
    },
    "id": "I2V9rM5Tjt7y",
    "outputId": "0d81e891-1ab8-43fe-c3b0-bff252caa1c7"
   },
   "outputs": [
    {
     "name": "stdout",
     "output_type": "stream",
     "text": [
      "Variable X:\n",
      "    Pregnancies  Glucose  BloodPressure  SkinThickness  Insulin   BMI  \\\n",
      "0            6    148.0           72.0           35.0    169.5  33.6   \n",
      "1            1     85.0           66.0           29.0    102.5  26.6   \n",
      "2            8    183.0           64.0           32.0    169.5  23.3   \n",
      "3            1     89.0           66.0           23.0     94.0  28.1   \n",
      "4            0    137.0           40.0           35.0    168.0  43.1   \n",
      "\n",
      "   DiabetesPedigreeFunction  Age  \n",
      "0                     0.627   50  \n",
      "1                     0.351   31  \n",
      "2                     0.672   32  \n",
      "3                     0.167   21  \n",
      "4                     2.288   33  \n",
      "\n",
      "\n",
      " Variable y:\n",
      " 0    1\n",
      "1    0\n",
      "2    1\n",
      "3    0\n",
      "4    1\n",
      "Name: Outcome, dtype: int64\n"
     ]
    }
   ],
   "source": [
    "# importing train test split library\n",
    "from sklearn import model_selection\n",
    "from sklearn.model_selection import train_test_split\n",
    "\n",
    "# importing models library\n",
    "from sklearn.tree import DecisionTreeClassifier\n",
    "from sklearn.ensemble import RandomForestClassifier,GradientBoostingClassifier\n",
    "\n",
    "# importing model evaluation library\n",
    "from sklearn.metrics import classification_report,confusion_matrix,f1_score,precision_score,recall_score,accuracy_score\n",
    "\n",
    "# importing model tuning library for cross validation\n",
    "from sklearn.model_selection import cross_val_score\n",
    "\n",
    "# loading target feature and response feature into different variable\n",
    "X = pima_diabetes.drop('Outcome',axis=1) #all columns except the last one\n",
    "y = pima_diabetes['Outcome']\n",
    "\n",
    "# Checking new variables\n",
    "print('Variable X:\\n',X.head())\n",
    "print('\\n\\n Variable y:\\n',y.head())"
   ]
  },
  {
   "cell_type": "code",
   "execution_count": 29,
   "metadata": {
    "id": "Xhet3HXJjt7y"
   },
   "outputs": [],
   "source": [
    "# Spliting our data into train and test split into ratio of 70% training and 30% testing\n",
    "X_train, X_test, y_train, y_test = train_test_split(X, y, test_size=0.3, random_state=123)"
   ]
  },
  {
   "cell_type": "markdown",
   "metadata": {
    "id": "yQIe8Q3Bjt7y"
   },
   "source": [
    "## Decision Tree"
   ]
  },
  {
   "cell_type": "code",
   "execution_count": 30,
   "metadata": {
    "colab": {
     "base_uri": "https://localhost:8080/"
    },
    "id": "Ee6Sy0LLjt7y",
    "outputId": "1ac6fa04-005a-4ef4-b78f-6d394477b0c3"
   },
   "outputs": [
    {
     "name": "stdout",
     "output_type": "stream",
     "text": [
      "Predicted Value:\n",
      " [0 1 0 0 0]\n"
     ]
    }
   ],
   "source": [
    "# fitting decision tree model on train data\n",
    "decision_tree_clf = DecisionTreeClassifier(random_state=123)\n",
    "decision_tree_clf.fit(X_train,y_train)\n",
    "\n",
    "# Predicting the test set\n",
    "y_pred_decision_clf = decision_tree_clf.predict(X_test)\n",
    "print(\"Predicted Value:\\n\",y_pred_decision_clf[0:5])"
   ]
  },
  {
   "cell_type": "code",
   "execution_count": 31,
   "metadata": {
    "colab": {
     "base_uri": "https://localhost:8080/",
     "height": 318
    },
    "id": "BO9-8Vpjjt7y",
    "outputId": "bc2bc7f2-8f4d-4c81-aa09-5c501bc21027"
   },
   "outputs": [
    {
     "name": "stdout",
     "output_type": "stream",
     "text": [
      "Train Data Accuracy: 1.0000\n",
      "Test Data Accuracy: 0.8701\n"
     ]
    },
    {
     "data": {
      "image/png": "[encoded data removed]",
      "text/plain": [
       "<Figure size 432x288 with 2 Axes>"
      ]
     },
     "metadata": {
      "needs_background": "light"
     },
     "output_type": "display_data"
    }
   ],
   "source": [
    "# printing accuracy score and confusion matrix\n",
    "cm = confusion_matrix(y_test, y_pred_decision_clf)\n",
    "\n",
    "df_cm = pd.DataFrame(cm, index = (0, 1), columns = (0, 1))\n",
    "sns.heatmap(df_cm, annot = True, fmt ='g')\n",
    "plt.title('Decision Tree')\n",
    "print(\"Train Data Accuracy: %.4f\" %accuracy_score(y_train, decision_tree_clf.predict(X_train)))\n",
    "print(\"Test Data Accuracy: %.4f\" %accuracy_score(y_test, y_pred_decision_clf))"
   ]
  },
  {
   "cell_type": "markdown",
   "metadata": {
    "id": "shwT2xjjjt7z"
   },
   "source": [
    "### We can see that accuracy of our model on test set is 87.01% which is good and confusion matrix tells us that total 130(TP)+(TN)71 = 201 are correcltly classfied and 17(FN) + (FP)13 = 30 is incorrectly classified out of total (TP+TN+FP+FN) 231 test set data by our model."
   ]
  },
  {
   "cell_type": "code",
   "execution_count": 32,
   "metadata": {
    "colab": {
     "base_uri": "https://localhost:8080/"
    },
    "id": "Ojrly6L8jt7z",
    "outputId": "ebc484dd-3d01-4c2d-b2c2-180c80d1ed8f"
   },
   "outputs": [
    {
     "name": "stdout",
     "output_type": "stream",
     "text": [
      "\n",
      " Precision Score: 0.8452380952380952\n",
      "\n",
      " Recall Score: 0.8068181818181818\n",
      "\n",
      " f1_score 0.8255813953488372\n"
     ]
    }
   ],
   "source": [
    "#printing f1 score,Preicison score, recall score\n",
    "\n",
    "print('\\n Precision Score:',precision_score(y_test, y_pred_decision_clf))\n",
    "print('\\n Recall Score:',recall_score(y_test, y_pred_decision_clf))\n",
    "print('\\n f1_score',f1_score(y_test, y_pred_decision_clf))"
   ]
  },
  {
   "cell_type": "markdown",
   "metadata": {
    "id": "pIhWOSKojt7z"
   },
   "source": [
    "### precision score is counted using (TP/TP+FP) = (130/130+13) which gives us 84.52% and recall is counted using (TP/TP+FN) =(130/130+17) which gives us 80.68% and f1 score is harmonic mean of precision and recall which is 82.56%. preicision is that which helps us to find out all classified positive what percent was correct and recall is the number of correct results divided by the total number of results. Since in our particular problem we need to focus on precision here we got nice score for precision and  f1 as well."
   ]
  },
  {
   "cell_type": "markdown",
   "metadata": {
    "id": "_1Pod1jhjt7z"
   },
   "source": [
    "# Radom Forest"
   ]
  },
  {
   "cell_type": "code",
   "execution_count": 33,
   "metadata": {
    "colab": {
     "base_uri": "https://localhost:8080/"
    },
    "id": "qZc2yucajt7z",
    "outputId": "920e0c46-7518-4afa-87c2-dcbe170f5fc1"
   },
   "outputs": [
    {
     "name": "stdout",
     "output_type": "stream",
     "text": [
      "Predicted Value:\n",
      " [1 0 0 0 0]\n"
     ]
    }
   ],
   "source": [
    "# fitting random model on train data\n",
    "rf_clf = RandomForestClassifier(random_state = 123)\n",
    "rf_clf = rf_clf.fit(X_train,y_train)\n",
    "\n",
    "# # Predicting the test set\n",
    "y_pred_rf_clf = rf_clf.predict(X_test)\n",
    "print(\"Predicted Value:\\n\",y_pred_rf_clf[0:5])"
   ]
  },
  {
   "cell_type": "code",
   "execution_count": 34,
   "metadata": {
    "colab": {
     "base_uri": "https://localhost:8080/",
     "height": 318
    },
    "id": "g5PzZoyWjt7z",
    "outputId": "0e8baf31-e005-4446-bded-a4b5f65c059f"
   },
   "outputs": [
    {
     "name": "stdout",
     "output_type": "stream",
     "text": [
      "Train Data Accuracy: 1.0000\n",
      "Test Data Accuracy: 0.9307\n"
     ]
    },
    {
     "data": {
      "image/png": "[encoded data removed]",
      "text/plain": [
       "<Figure size 432x288 with 2 Axes>"
      ]
     },
     "metadata": {
      "needs_background": "light"
     },
     "output_type": "display_data"
    }
   ],
   "source": [
    "# printing accuracy score and confusion matrix\n",
    "cm = confusion_matrix(y_test, y_pred_rf_clf)\n",
    "\n",
    "df_cm = pd.DataFrame(cm, index = (0, 1), columns = (0, 1))\n",
    "sns.heatmap(df_cm, annot = True, fmt ='g')\n",
    "plt.title('Random Forest')\n",
    "print(\"Train Data Accuracy: %.4f\" %accuracy_score(y_train, rf_clf.predict(X_train)))\n",
    "print(\"Test Data Accuracy: %.4f\" %accuracy_score(y_test, y_pred_rf_clf))"
   ]
  },
  {
   "cell_type": "markdown",
   "metadata": {
    "id": "skjfseuejt7z"
   },
   "source": [
    "### We can see that accuracy of our model  has increased compare to decision tree classifier on test set with 93.07% accuracy which is good and confusion matrix tells us that total 136(TP)+(TN)79 = 215 are correcltly classfied and 9(FN) + (FP)7 = 16 is incorrectly classified out of total (TP+TN+FP+FN)= 231 test set data by our model."
   ]
  },
  {
   "cell_type": "code",
   "execution_count": 35,
   "metadata": {
    "id": "FXXhMwXYjt7z",
    "outputId": "19d9044a-1415-40d4-d788-f3e787017fd2",
    "scrolled": false
   },
   "outputs": [
    {
     "name": "stdout",
     "output_type": "stream",
     "text": [
      "\n",
      " Precision Score: 0.9186046511627907\n",
      "\n",
      " Recall Score: 0.8977272727272727\n",
      "\n",
      " f1_score 0.9080459770114941\n"
     ]
    }
   ],
   "source": [
    "#printing f1 score,Preicison score, recall score\n",
    "\n",
    "print('\\n Precision Score:',precision_score(y_test, y_pred_rf_clf))\n",
    "print('\\n Recall Score:',recall_score(y_test, y_pred_rf_clf))\n",
    "print('\\n f1_score',f1_score(y_test, y_pred_rf_clf))"
   ]
  },
  {
   "cell_type": "markdown",
   "metadata": {
    "id": "nrWPJhXIjt7z"
   },
   "source": [
    "### As we can see above after applying random forest ensemble method over data we got precision score of 91.86%,recall score of 89.77% and f1 score of 90.80% which means our scores has increased compare to decision tree model and that we can expect as random forest is more generalinzed model compare to decision tree model."
   ]
  },
  {
   "cell_type": "markdown",
   "metadata": {
    "id": "aW5za1UJjt7z"
   },
   "source": [
    "# Gradient Boosting"
   ]
  },
  {
   "cell_type": "code",
   "execution_count": 36,
   "metadata": {
    "colab": {
     "base_uri": "https://localhost:8080/"
    },
    "id": "allMjVTUjt7z",
    "outputId": "1ce6a3eb-6c55-4351-f7c8-8688be75ec1f"
   },
   "outputs": [
    {
     "name": "stdout",
     "output_type": "stream",
     "text": [
      "Predicted Value:\n",
      " [1 0 0 0 0]\n"
     ]
    }
   ],
   "source": [
    "# fitting decision tree model on train data\n",
    "Gb_clf = GradientBoostingClassifier(random_state = 123)\n",
    "Gb_clf = Gb_clf.fit(X_train,y_train)\n",
    "\n",
    "# # Predicting the test set\n",
    "y_pred_Gb_clf = Gb_clf.predict(X_test)\n",
    "print(\"Predicted Value:\\n\",y_pred_Gb_clf[0:5])"
   ]
  },
  {
   "cell_type": "code",
   "execution_count": 37,
   "metadata": {
    "colab": {
     "base_uri": "https://localhost:8080/",
     "height": 318
    },
    "id": "BthQ_lwWjt7z",
    "outputId": "9f3f446d-b0d2-4941-e461-00b63db72653"
   },
   "outputs": [
    {
     "name": "stdout",
     "output_type": "stream",
     "text": [
      "Train Data Accuracy: 0.9870\n",
      "Test Data Accuracy: 0.9177\n"
     ]
    },
    {
     "data": {
      "image/png": "[encoded data removed]",
      "text/plain": [
       "<Figure size 432x288 with 2 Axes>"
      ]
     },
     "metadata": {
      "needs_background": "light"
     },
     "output_type": "display_data"
    }
   ],
   "source": [
    "# printing accuracy score and confusion matrix\n",
    "cm = confusion_matrix(y_test, y_pred_Gb_clf)\n",
    "\n",
    "df_cm = pd.DataFrame(cm, index = (0, 1), columns = (0, 1))\n",
    "sns.heatmap(df_cm, annot = True, fmt ='g')\n",
    "plt.title('Gradient Boosting')\n",
    "print(\"Train Data Accuracy: %.4f\" %accuracy_score(y_train, Gb_clf.predict(X_train)))\n",
    "print(\"Test Data Accuracy: %.4f\" %accuracy_score(y_test, y_pred_Gb_clf))"
   ]
  },
  {
   "cell_type": "markdown",
   "metadata": {
    "id": "MyxkrOSgjt7z"
   },
   "source": [
    "### We can see that accuracy of our model  has decreased compare to random forest classifier on test set with 91.77% accuracy and confusion matrix tells us that total 135(TP)+(TN)77 = 212 are correcltly classfied and 11(FN) + (FP)8 = 19 is incorrectly classified out of total (TP+TN+FP+FN)= 231 test set data by our model."
   ]
  },
  {
   "cell_type": "code",
   "execution_count": 38,
   "metadata": {
    "id": "KtDoOpM7jt7z",
    "outputId": "6949df07-3187-466e-ce07-b126e3df38b5",
    "scrolled": true
   },
   "outputs": [
    {
     "name": "stdout",
     "output_type": "stream",
     "text": [
      "\n",
      " Precision Score: 0.9058823529411765\n",
      "\n",
      " Recall Score: 0.875\n",
      "\n",
      " f1_score 0.8901734104046243\n"
     ]
    }
   ],
   "source": [
    "#printing f1 score,Preicison score, recall score\n",
    "\n",
    "print('\\n Precision Score:',precision_score(y_test, y_pred_Gb_clf))\n",
    "print('\\n Recall Score:',recall_score(y_test, y_pred_Gb_clf))\n",
    "print('\\n f1_score',f1_score(y_test, y_pred_Gb_clf))"
   ]
  },
  {
   "cell_type": "markdown",
   "metadata": {
    "id": "PwczGCDNjt70"
   },
   "source": [
    "### As we can see above after applying gradient boosting ensemble method over data we got precision score of 90.59%,recall score of 87.50% and f1 score of 89.01% which means our scores has decreased compare to random forest one of main reason could be our data is not large enough otherwise in most cases gradient boosting gives better accuracy compare to other models."
   ]
  },
  {
   "cell_type": "markdown",
   "metadata": {
    "id": "hGjXdDn_jt70"
   },
   "source": [
    "# Model Tunning"
   ]
  },
  {
   "cell_type": "markdown",
   "metadata": {
    "id": "-ilsu4Sljt70"
   },
   "source": [
    "### From the above result we can see that Random Forest and Gradient Boosting both gives us better accuray of more than 90% but random forest accuracy is better than gradient boosting for this particular problem. So, we will use random forest model for hyper parameter optimization and k-fold cross validation. "
   ]
  },
  {
   "cell_type": "code",
   "execution_count": 39,
   "metadata": {
    "colab": {
     "base_uri": "https://localhost:8080/"
    },
    "id": "r05MlVR6jt70",
    "outputId": "5092f4cf-6b99-47a0-f44d-3ae8ca0f5d00"
   },
   "outputs": [
    {
     "name": "stdout",
     "output_type": "stream",
     "text": [
      "Predicted Value:\n",
      " [1 0 0 0 0]\n"
     ]
    }
   ],
   "source": [
    "# fitting Radnom forest train data\n",
    "rf_clf_tuned = RandomForestClassifier(random_state=123,n_estimators=150,\n",
    "                                      criterion='entropy',max_features=3) # Adding hyper parameter\n",
    "rf_clf_tuned = rf_clf_tuned.fit(X_train,y_train)\n",
    "\n",
    "# # Predicting the test set\n",
    "y_pred_rf_clf_tuned = rf_clf_tuned.predict(X_test)\n",
    "print(\"Predicted Value:\\n\",y_pred_rf_clf_tuned[0:5])"
   ]
  },
  {
   "cell_type": "code",
   "execution_count": 40,
   "metadata": {
    "colab": {
     "base_uri": "https://localhost:8080/",
     "height": 318
    },
    "id": "25j9znUQjt70",
    "outputId": "89bb76fa-5dae-41a1-81ce-01b51d90318f",
    "scrolled": true
   },
   "outputs": [
    {
     "name": "stdout",
     "output_type": "stream",
     "text": [
      "Train Data Accuracy: 1.0000\n",
      "Test Data Accuracy: 0.9351\n"
     ]
    },
    {
     "data": {
      "image/png": "[encoded data removed]",
      "text/plain": [
       "<Figure size 432x288 with 2 Axes>"
      ]
     },
     "metadata": {
      "needs_background": "light"
     },
     "output_type": "display_data"
    }
   ],
   "source": [
    "# printing accuracy score and confusion matrix\n",
    "cm = confusion_matrix(y_test, y_pred_rf_clf_tuned)\n",
    "\n",
    "df_cm = pd.DataFrame(cm, index = (0, 1), columns = (0, 1))\n",
    "sns.heatmap(df_cm, annot = True, fmt ='g')\n",
    "plt.title('Random Forest')\n",
    "\n",
    "print(\"Train Data Accuracy: %.4f\" %accuracy_score(y_train, rf_clf_tuned.predict(X_train)))\n",
    "print(\"Test Data Accuracy: %.4f\" %accuracy_score(y_test, y_pred_rf_clf_tuned))"
   ]
  },
  {
   "cell_type": "code",
   "execution_count": 41,
   "metadata": {
    "colab": {
     "base_uri": "https://localhost:8080/"
    },
    "id": "b-YBrPusjt70",
    "outputId": "d8f31d68-ce3c-4eb9-80bb-90e7e3e0dcc6"
   },
   "outputs": [
    {
     "name": "stdout",
     "output_type": "stream",
     "text": [
      "[0.88888889 0.88888889 0.85185185 0.85185185 0.87037037 0.87037037\n",
      " 0.87037037 0.83018868 0.88679245 0.9245283 ]\n"
     ]
    }
   ],
   "source": [
    "# using k-fold cross validation\n",
    "accuracies = cross_val_score(estimator = rf_clf_tuned, X= X_train, y = y_train, cv = 10)\n",
    "print(accuracies)"
   ]
  },
  {
   "cell_type": "code",
   "execution_count": 42,
   "metadata": {
    "colab": {
     "base_uri": "https://localhost:8080/"
    },
    "id": "YLaTPoFQjt70",
    "outputId": "ef7a8ff6-5c7a-430d-d73b-26391939d327"
   },
   "outputs": [
    {
     "name": "stdout",
     "output_type": "stream",
     "text": [
      "Average of Accuracy:\n",
      " 0.8734102026554857\n"
     ]
    }
   ],
   "source": [
    "print(\"Average of Accuracy:\\n\",np.mean(accuracies))"
   ]
  },
  {
   "cell_type": "markdown",
   "metadata": {
    "id": "B4EMrywtjt70"
   },
   "source": [
    "### After applying model tunning we did not got much more accuracy compare to what we got in without tunning for random forest and even for 10 k-fold corss validation we got accuracy of 87.34% which is nearly to same of deicision tree. We belive reason behind why our accuray of model is not increasing is that because our data is imbalanced and because of that it will work on train set very well but it will have to put a lot effort to get good accuracy for unseen test set."
   ]
  },
  {
   "cell_type": "markdown",
   "metadata": {
    "id": "HCoaABOvjt70"
   },
   "source": [
    "# Feature Importance"
   ]
  },
  {
   "cell_type": "code",
   "execution_count": 43,
   "metadata": {
    "colab": {
     "base_uri": "https://localhost:8080/",
     "height": 283
    },
    "id": "SQm5FUlnjt70",
    "outputId": "053728b0-4109-48a2-aa11-bfcdfa475499"
   },
   "outputs": [
    {
     "data": {
      "text/plain": [
       "<AxesSubplot:>"
      ]
     },
     "execution_count": 43,
     "metadata": {},
     "output_type": "execute_result"
    },
    {
     "data": {
      "image/png": "[encoded data removed]",
      "text/plain": [
       "<Figure size 432x288 with 1 Axes>"
      ]
     },
     "metadata": {
      "needs_background": "light"
     },
     "output_type": "display_data"
    }
   ],
   "source": [
    "feat_importances = pd.Series(rf_clf_tuned.feature_importances_, index=X.columns)\n",
    "feat_importances.nlargest(20).plot(kind='barh')"
   ]
  },
  {
   "cell_type": "markdown",
   "metadata": {
    "id": "14a4Lqowjt71"
   },
   "source": [
    "### Above feature importance graph gives us better understanding of our model we can see that our best tunned random forest model gives most important to feature 'Insulin' compare to other features for predicting whether patient is diabetic or not."
   ]
  },
  {
   "cell_type": "markdown",
   "metadata": {
    "id": "zEWX4RI6jt71"
   },
   "source": [
    "# Conclusion"
   ]
  },
  {
   "cell_type": "markdown",
   "metadata": {
    "id": "ghWKCUdvjt71"
   },
   "source": [
    "<p>After doing analysis of our data and applying machine learnig algorithm to it for prediction we learn few things which are:</p>\n",
    "\n",
    "* From analysis we saw that every patinet who is diabetic have high average Insulin level,Blood Pressure,Glucose Level and skin thickness.\n",
    "* Based upon this dataset we can say that women age between 40-49 and 50-59 has more number of diabetic patients compare to non-dabetic.\n",
    "* Insulin level in body could be one of the most important feature for deciding whether patient is diabetic or not based upon our best fitted model.\n",
    "* If we got imbalenced data it becomes tough to get high accuracy and relability of that model becomes less strong."
   ]
  }
 ],
 "metadata": {
  "colab": {
   "collapsed_sections": [
    "5X-jkCWdjt7y",
    "pIhWOSKojt7z",
    "nrWPJhXIjt7z",
    "PwczGCDNjt70",
    "B4EMrywtjt70",
    "14a4Lqowjt71"
   ],
   "name": "DAB304_Group_7_Python_File_Final.ipynb",
   "provenance": []
  },
  "kernelspec": {
   "display_name": "Python 3",
   "language": "python",
   "name": "python3"
  },
  "language_info": {
   "codemirror_mode": {
    "name": "ipython",
    "version": 3
   },
   "file_extension": ".py",
   "mimetype": "text/x-python",
   "name": "python",
   "nbconvert_exporter": "python",
   "pygments_lexer": "ipython3",
   "version": "3.7.9"
  }
 },
 "nbformat": 4,
 "nbformat_minor": 1
}
